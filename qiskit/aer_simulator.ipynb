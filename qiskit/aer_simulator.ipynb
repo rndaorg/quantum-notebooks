{
 "cells": [
  {
   "cell_type": "code",
   "execution_count": null,
   "id": "6ed27efd",
   "metadata": {},
   "outputs": [],
   "source": [
    "from qiskit import QuantumCircuit, QuantumRegister\n",
    "from qiskit.quantum_info import SparsePauliOp\n",
    "from qiskit_aer.primitives import Estimator"
   ]
  },
  {
   "cell_type": "code",
   "execution_count": 3,
   "id": "3dde0fe4",
   "metadata": {},
   "outputs": [],
   "source": [
    "qubits = QuantumRegister(2, name=\"q\")\n",
    "circuit = QuantumCircuit(qubits)"
   ]
  },
  {
   "cell_type": "code",
   "execution_count": 4,
   "id": "c899731b",
   "metadata": {},
   "outputs": [
    {
     "data": {
      "text/plain": [
       "<qiskit.circuit.instructionset.InstructionSet at 0x7a95b074d300>"
      ]
     },
     "execution_count": 4,
     "metadata": {},
     "output_type": "execute_result"
    }
   ],
   "source": [
    "q0, q1 = qubits\n",
    "circuit.h(q0)\n",
    "circuit.cx(q0, q1) "
   ]
  },
  {
   "cell_type": "code",
   "execution_count": null,
   "id": "ac93329e",
   "metadata": {},
   "outputs": [],
   "source": [
    "#no measurements becasue we are using estimator primitives"
   ]
  },
  {
   "cell_type": "code",
   "execution_count": 5,
   "id": "721669ac",
   "metadata": {},
   "outputs": [],
   "source": [
    "observable = SparsePauliOp(\"ZZ\")\n",
    "\n",
    "estimator = Estimator()\n",
    "job = estimator.run(circuit, observable)\n",
    "\n",
    "exact_value = job.result().values[0]"
   ]
  },
  {
   "cell_type": "code",
   "execution_count": 6,
   "id": "0c11b781",
   "metadata": {},
   "outputs": [
    {
     "name": "stdout",
     "output_type": "stream",
     "text": [
      "1.0\n"
     ]
    }
   ],
   "source": [
    "print(exact_value)"
   ]
  }
 ],
 "metadata": {
  "kernelspec": {
   "display_name": "cwq",
   "language": "python",
   "name": "python3"
  },
  "language_info": {
   "codemirror_mode": {
    "name": "ipython",
    "version": 3
   },
   "file_extension": ".py",
   "mimetype": "text/x-python",
   "name": "python",
   "nbconvert_exporter": "python",
   "pygments_lexer": "ipython3",
   "version": "3.13.2"
  }
 },
 "nbformat": 4,
 "nbformat_minor": 5
}
