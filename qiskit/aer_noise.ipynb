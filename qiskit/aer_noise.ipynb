{
 "cells": [
  {
   "cell_type": "code",
   "execution_count": 1,
   "id": "3207b198",
   "metadata": {},
   "outputs": [],
   "source": [
    "from qiskit_aer.noise import NoiseModel\n",
    "from qiskit_aer.primitives import Estimator\n",
    "from qiskit_ibm_runtime import QiskitRuntimeService"
   ]
  },
  {
   "cell_type": "code",
   "execution_count": 3,
   "id": "8bb29a51",
   "metadata": {},
   "outputs": [],
   "source": [
    "service = QiskitRuntimeService()\n",
    "backend = service.backend(\"ibm_brisbane\")\n",
    "noise_model = NoiseModel.from_backend(backend)"
   ]
  },
  {
   "cell_type": "code",
   "execution_count": 4,
   "id": "dbcc3e3d",
   "metadata": {},
   "outputs": [],
   "source": [
    "estimator = Estimator(backend_options=dict(noise_model=noise_model))"
   ]
  },
  {
   "cell_type": "code",
   "execution_count": 5,
   "id": "653ab462",
   "metadata": {},
   "outputs": [],
   "source": [
    "from qiskit_aer.noise import ReadoutError, depolarizing_error"
   ]
  },
  {
   "cell_type": "code",
   "execution_count": 6,
   "id": "b2eeb608",
   "metadata": {},
   "outputs": [],
   "source": [
    "noise_model = NoiseModel()\n",
    "cx_depolarizing_prob = 0.02\n",
    "bit_flip_prob = 0.05"
   ]
  },
  {
   "cell_type": "code",
   "execution_count": 8,
   "id": "c4de7214",
   "metadata": {},
   "outputs": [
    {
     "name": "stderr",
     "output_type": "stream",
     "text": [
      "WARNING: all-qubit error already exists for instruction \"cx\", composing with additional error.\n"
     ]
    }
   ],
   "source": [
    "noise_model.add_all_qubit_quantum_error(\n",
    "    depolarizing_error(cx_depolarizing_prob, 2), [\"cx\"]\n",
    ")"
   ]
  },
  {
   "cell_type": "code",
   "execution_count": 9,
   "id": "a3097638",
   "metadata": {},
   "outputs": [],
   "source": [
    "noise_model.add_all_qubit_readout_error(\n",
    "    ReadoutError(\n",
    "        [\n",
    "            [1-bit_flip_prob, bit_flip_prob],\n",
    "            [bit_flip_prob, 1-bit_flip_prob],\n",
    "        ]\n",
    "    )\n",
    ")"
   ]
  }
 ],
 "metadata": {
  "kernelspec": {
   "display_name": "cwq",
   "language": "python",
   "name": "python3"
  },
  "language_info": {
   "codemirror_mode": {
    "name": "ipython",
    "version": 3
   },
   "file_extension": ".py",
   "mimetype": "text/x-python",
   "name": "python",
   "nbconvert_exporter": "python",
   "pygments_lexer": "ipython3",
   "version": "3.13.2"
  }
 },
 "nbformat": 4,
 "nbformat_minor": 5
}
