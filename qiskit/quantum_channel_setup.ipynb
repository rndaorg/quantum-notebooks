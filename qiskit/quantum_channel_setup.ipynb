{
 "cells": [
  {
   "cell_type": "code",
   "execution_count": 1,
   "id": "37a4fe8a",
   "metadata": {},
   "outputs": [],
   "source": [
    "from qiskit_ibm_runtime import QiskitRuntimeService"
   ]
  },
  {
   "cell_type": "code",
   "execution_count": null,
   "id": "8d452ca4",
   "metadata": {},
   "outputs": [],
   "source": [
    "QiskitRuntimeService.save_account(\n",
    "  token=\"token\",\n",
    "  channel=\"ibm_quantum\", # `channel` distinguishes between different account types\n",
    "  overwrite=True\n",
    ")"
   ]
  },
  {
   "cell_type": "code",
   "execution_count": 4,
   "id": "770a0c0d",
   "metadata": {},
   "outputs": [],
   "source": [
    "# Load saved credentials\n",
    "service = QiskitRuntimeService()"
   ]
  },
  {
   "cell_type": "code",
   "execution_count": 5,
   "id": "6089448a",
   "metadata": {},
   "outputs": [],
   "source": [
    "from qiskit_ibm_runtime import QiskitRuntimeService"
   ]
  },
  {
   "cell_type": "code",
   "execution_count": null,
   "id": "a85db51c",
   "metadata": {},
   "outputs": [],
   "source": [
    "service = QiskitRuntimeService(\n",
    "    channel=\"ibm_quantum\", \n",
    "    token=\"token\"\n",
    ")"
   ]
  },
  {
   "cell_type": "code",
   "execution_count": 7,
   "id": "a6d14af4",
   "metadata": {},
   "outputs": [],
   "source": [
    "from qiskit import QuantumCircuit\n",
    "from qiskit_ibm_runtime import QiskitRuntimeService, SamplerV2 as Sampler"
   ]
  },
  {
   "cell_type": "code",
   "execution_count": 8,
   "id": "80b6c84d",
   "metadata": {},
   "outputs": [],
   "source": [
    "# Create empty circuit\n",
    "example_circuit = QuantumCircuit(2)\n",
    "example_circuit.measure_all()\n",
    " "
   ]
  },
  {
   "cell_type": "code",
   "execution_count": 9,
   "id": "e7f4d3df",
   "metadata": {},
   "outputs": [],
   "source": [
    "# You'll need to specify the credentials when initializing QiskitRuntimeService, if they were not previously saved.\n",
    "service = QiskitRuntimeService()\n",
    "backend = service.least_busy(operational=True, simulator=False)"
   ]
  },
  {
   "cell_type": "code",
   "execution_count": 10,
   "id": "beea8d7e",
   "metadata": {},
   "outputs": [
    {
     "name": "stdout",
     "output_type": "stream",
     "text": [
      "job id: czx375wkzhn0008d3t40\n",
      "PrimitiveResult([SamplerPubResult(data=DataBin(meas=BitArray(<shape=(), num_shots=4096, num_bits=2>)), metadata={'circuit_metadata': {}})], metadata={'execution': {'execution_spans': ExecutionSpans([DoubleSliceSpan(<start='2025-04-12 09:35:25', stop='2025-04-12 09:35:27', size=4096>)])}, 'version': 2})\n"
     ]
    }
   ],
   "source": [
    "sampler = Sampler(backend)\n",
    "job = sampler.run([example_circuit])\n",
    "\n",
    "print(f\"job id: {job.job_id()}\")\n",
    "\n",
    "result = job.result()\n",
    "\n",
    "print(result)"
   ]
  },
  {
   "cell_type": "markdown",
   "id": "bbe56655",
   "metadata": {},
   "source": [
    "##REST API Interafce"
   ]
  },
  {
   "cell_type": "code",
   "execution_count": null,
   "id": "e21346c6",
   "metadata": {},
   "outputs": [
    {
     "name": "stdout",
     "output_type": "stream",
     "text": [
      "{'errors': [{'code': 1201, 'message': 'Invalid credentials.', 'solution': 'Verify your credentials and try again.', 'more_info': 'https://cloud.ibm.com/apidocs/quantum-computing#error-handling'}], 'trace': 'cvt3crajdjqs73fcora0'}\n"
     ]
    }
   ],
   "source": [
    "#Template\n",
    "import os\n",
    "import requests\n",
    " \n",
    "req_url = \"https://api.quantum-computing.ibm.com/runtime/jobs?limit=10&offset=0&exclude_params=true\"\n",
    " \n",
    "headers_list = {\n",
    "  \"Accept\": \"application/json\",\n",
    "  \"Authorization\": f\"Bearer yourtoken\"\n",
    "}\n",
    " \n",
    "payload = \"\"\n",
    " \n",
    "response = requests.request(\"GET\", req_url, data=payload,  headers=headers_list)\n",
    " \n",
    "print(response.json())"
   ]
  },
  {
   "cell_type": "code",
   "execution_count": null,
   "id": "810f80b8",
   "metadata": {},
   "outputs": [
    {
     "name": "stdout",
     "output_type": "stream",
     "text": [
      "LJSrY8eh42Bw5fXBiAEmzAi9rpUG1kiy5LRhnuDCNwFjzzWriqhj0AnbsIjIRhde\n"
     ]
    }
   ],
   "source": [
    "import os\n",
    "import requests\n",
    " \n",
    "url = 'https://auth.quantum-computing.ibm.com/api/users/loginWithToken'\n",
    "\n",
    "payload = {\"apiToken\": \"token\"}\n",
    "\n",
    "auth_response = requests.post(url, json=payload)\n",
    "\n",
    "auth_id=auth_response.json()['id']\n",
    "\n",
    "print(auth_id)"
   ]
  },
  {
   "cell_type": "code",
   "execution_count": 15,
   "id": "fc2cef38",
   "metadata": {},
   "outputs": [
    {
     "name": "stdout",
     "output_type": "stream",
     "text": [
      "['ibm_brisbane', 'ibm_sherbrooke', 'ibm_kyiv'] ...\n"
     ]
    }
   ],
   "source": [
    "url_backends = 'https://api.quantum-computing.ibm.com/runtime/backends'\n",
    "\n",
    "headers = {'Content-Type': 'application/json',\n",
    "            'x-access-token':auth_id}\n",
    " \n",
    "backends_response = requests.get(url_backends, headers=headers)\n",
    " \n",
    "print(backends_response.json()['devices'][:5],\"...\")"
   ]
  },
  {
   "cell_type": "code",
   "execution_count": 16,
   "id": "81e52553",
   "metadata": {},
   "outputs": [
    {
     "name": "stdout",
     "output_type": "stream",
     "text": [
      "response ok?: True \n"
     ]
    }
   ],
   "source": [
    "logout_url = 'https://auth.quantum-computing.ibm.com/api/users/logout'\n",
    "headers = {'x-access-token':auth_id}\n",
    "\n",
    "logout_response = requests.post(logout_url, headers=headers)\n",
    "\n",
    "print(\"response ok?:\",logout_response.ok,logout_response.text)"
   ]
  },
  {
   "cell_type": "code",
   "execution_count": 17,
   "id": "7cd14303",
   "metadata": {},
   "outputs": [
    {
     "name": "stdout",
     "output_type": "stream",
     "text": [
      "invalid credentials. Access token should be successfully invalidated.\n"
     ]
    }
   ],
   "source": [
    "logout_url = 'https://auth.quantum-computing.ibm.com/api/users/logout'\n",
    "headers = {'x-access-token':auth_id}\n",
    "logout_response = requests.post(logout_url, headers=headers)\n",
    " \n",
    "if logout_response.status_code == 200:\n",
    "    job_id = logout_response.json().get('id')\n",
    "    print(\"Job created:\",logout_response.text)\n",
    "elif logout_response.status_code == 401:\n",
    "    print(\"invalid credentials. Access token should be successfully invalidated.\")\n",
    "else:\n",
    "    print(logout_response.text,\"\\n\")\n",
    "    print(f\"Error: {logout_response.status_code}\")"
   ]
  }
 ],
 "metadata": {
  "kernelspec": {
   "display_name": "cwq",
   "language": "python",
   "name": "python3"
  },
  "language_info": {
   "codemirror_mode": {
    "name": "ipython",
    "version": 3
   },
   "file_extension": ".py",
   "mimetype": "text/x-python",
   "name": "python",
   "nbconvert_exporter": "python",
   "pygments_lexer": "ipython3",
   "version": "3.13.2"
  }
 },
 "nbformat": 4,
 "nbformat_minor": 5
}
