{
 "cells": [
  {
   "cell_type": "code",
   "execution_count": 1,
   "id": "a35ab4c5",
   "metadata": {},
   "outputs": [],
   "source": [
    "from qiskit_ibm_runtime import Estimator, QiskitRuntimeService, Session"
   ]
  },
  {
   "cell_type": "code",
   "execution_count": 2,
   "id": "4efbb6d0",
   "metadata": {},
   "outputs": [],
   "source": [
    "service = QiskitRuntimeService()\n",
    "backend = service.backend(\"ibm_brisbane\")"
   ]
  },
  {
   "cell_type": "code",
   "execution_count": null,
   "id": "d4bd0494",
   "metadata": {},
   "outputs": [],
   "source": [
    "with Session(backend=backend):\n",
    "    estimator = Estimator()\n",
    "    #invoke the estimator as usual"
   ]
  }
 ],
 "metadata": {
  "kernelspec": {
   "display_name": "cwq",
   "language": "python",
   "name": "python3"
  },
  "language_info": {
   "codemirror_mode": {
    "name": "ipython",
    "version": 3
   },
   "file_extension": ".py",
   "mimetype": "text/x-python",
   "name": "python",
   "nbconvert_exporter": "python",
   "pygments_lexer": "ipython3",
   "version": "3.13.2"
  }
 },
 "nbformat": 4,
 "nbformat_minor": 5
}
