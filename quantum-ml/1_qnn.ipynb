{
 "cells": [
  {
   "cell_type": "code",
   "execution_count": 1,
   "metadata": {},
   "outputs": [
    {
     "name": "stdout",
     "output_type": "stream",
     "text": [
      "Collecting qiskit-machine-learning\n",
      "  Using cached qiskit_machine_learning-0.7.2-py3-none-any.whl.metadata (12 kB)\n",
      "Collecting qiskit>=0.44 (from qiskit-machine-learning)\n",
      "  Using cached qiskit-1.2.0-cp38-abi3-manylinux_2_17_x86_64.manylinux2014_x86_64.whl.metadata (12 kB)\n",
      "Collecting qiskit-algorithms>=0.2.0 (from qiskit-machine-learning)\n",
      "  Using cached qiskit_algorithms-0.3.0-py3-none-any.whl.metadata (4.2 kB)\n",
      "Collecting scipy>=1.4 (from qiskit-machine-learning)\n",
      "  Downloading scipy-1.14.1-cp312-cp312-manylinux_2_17_x86_64.manylinux2014_x86_64.whl.metadata (60 kB)\n",
      "Collecting numpy>=1.17 (from qiskit-machine-learning)\n",
      "  Downloading numpy-2.1.1-cp312-cp312-manylinux_2_17_x86_64.manylinux2014_x86_64.whl.metadata (60 kB)\n",
      "Requirement already satisfied: psutil>=5 in /workspaces/quantum-notebooks/.venv/lib/python3.12/site-packages (from qiskit-machine-learning) (6.0.0)\n",
      "Collecting scikit-learn>=1.2.0 (from qiskit-machine-learning)\n",
      "  Downloading scikit_learn-1.5.1-cp312-cp312-manylinux_2_17_x86_64.manylinux2014_x86_64.whl.metadata (12 kB)\n",
      "Collecting fastdtw (from qiskit-machine-learning)\n",
      "  Using cached fastdtw-0.3.4-py3-none-any.whl\n",
      "Collecting setuptools>=40.1.0 (from qiskit-machine-learning)\n",
      "  Using cached setuptools-74.1.2-py3-none-any.whl.metadata (6.7 kB)\n",
      "Collecting dill>=0.3.4 (from qiskit-machine-learning)\n",
      "  Using cached dill-0.3.8-py3-none-any.whl.metadata (10 kB)\n",
      "Collecting rustworkx>=0.15.0 (from qiskit>=0.44->qiskit-machine-learning)\n",
      "  Using cached rustworkx-0.15.1-cp38-abi3-manylinux_2_17_x86_64.manylinux2014_x86_64.whl.metadata (9.9 kB)\n",
      "Collecting sympy>=1.3 (from qiskit>=0.44->qiskit-machine-learning)\n",
      "  Downloading sympy-1.13.2-py3-none-any.whl.metadata (12 kB)\n",
      "Requirement already satisfied: python-dateutil>=2.8.0 in /workspaces/quantum-notebooks/.venv/lib/python3.12/site-packages (from qiskit>=0.44->qiskit-machine-learning) (2.9.0.post0)\n",
      "Collecting stevedore>=3.0.0 (from qiskit>=0.44->qiskit-machine-learning)\n",
      "  Using cached stevedore-5.3.0-py3-none-any.whl.metadata (2.3 kB)\n",
      "Collecting typing-extensions (from qiskit>=0.44->qiskit-machine-learning)\n",
      "  Downloading typing_extensions-4.12.2-py3-none-any.whl.metadata (3.0 kB)\n",
      "Collecting symengine>=0.11 (from qiskit>=0.44->qiskit-machine-learning)\n",
      "  Using cached symengine-0.11.0-cp312-cp312-manylinux_2_12_x86_64.manylinux2010_x86_64.whl.metadata (1.2 kB)\n",
      "Collecting joblib>=1.2.0 (from scikit-learn>=1.2.0->qiskit-machine-learning)\n",
      "  Downloading joblib-1.4.2-py3-none-any.whl.metadata (5.4 kB)\n",
      "Collecting threadpoolctl>=3.1.0 (from scikit-learn>=1.2.0->qiskit-machine-learning)\n",
      "  Downloading threadpoolctl-3.5.0-py3-none-any.whl.metadata (13 kB)\n",
      "Requirement already satisfied: six>=1.5 in /workspaces/quantum-notebooks/.venv/lib/python3.12/site-packages (from python-dateutil>=2.8.0->qiskit>=0.44->qiskit-machine-learning) (1.16.0)\n",
      "Collecting pbr>=2.0.0 (from stevedore>=3.0.0->qiskit>=0.44->qiskit-machine-learning)\n",
      "  Using cached pbr-6.1.0-py2.py3-none-any.whl.metadata (3.4 kB)\n",
      "Collecting mpmath<1.4,>=1.1.0 (from sympy>=1.3->qiskit>=0.44->qiskit-machine-learning)\n",
      "  Downloading mpmath-1.3.0-py3-none-any.whl.metadata (8.6 kB)\n",
      "Using cached qiskit_machine_learning-0.7.2-py3-none-any.whl (97 kB)\n",
      "Using cached dill-0.3.8-py3-none-any.whl (116 kB)\n",
      "Downloading numpy-2.1.1-cp312-cp312-manylinux_2_17_x86_64.manylinux2014_x86_64.whl (16.0 MB)\n",
      "\u001b[2K   \u001b[90m━━━━━━━━━━━━━━━━━━━━━━━━━━━━━━━━━━━━━━━━\u001b[0m \u001b[32m16.0/16.0 MB\u001b[0m \u001b[31m28.6 MB/s\u001b[0m eta \u001b[36m0:00:00\u001b[0m00:01\u001b[0m00:01\u001b[0m\n",
      "\u001b[?25hUsing cached qiskit-1.2.0-cp38-abi3-manylinux_2_17_x86_64.manylinux2014_x86_64.whl (4.8 MB)\n",
      "Using cached qiskit_algorithms-0.3.0-py3-none-any.whl (308 kB)\n",
      "Downloading scikit_learn-1.5.1-cp312-cp312-manylinux_2_17_x86_64.manylinux2014_x86_64.whl (13.1 MB)\n",
      "\u001b[2K   \u001b[90m━━━━━━━━━━━━━━━━━━━━━━━━━━━━━━━━━━━━━━━━\u001b[0m \u001b[32m13.1/13.1 MB\u001b[0m \u001b[31m35.0 MB/s\u001b[0m eta \u001b[36m0:00:00\u001b[0ma \u001b[36m0:00:01\u001b[0m\n",
      "\u001b[?25hDownloading scipy-1.14.1-cp312-cp312-manylinux_2_17_x86_64.manylinux2014_x86_64.whl (40.8 MB)\n",
      "\u001b[2K   \u001b[90m━━━━━━━━━━━━━━━━━━━━━━━━━━━━━━━━━━━━━━━━\u001b[0m \u001b[32m40.8/40.8 MB\u001b[0m \u001b[31m39.1 MB/s\u001b[0m eta \u001b[36m0:00:00\u001b[0m00:01\u001b[0m00:01\u001b[0m\n",
      "\u001b[?25hUsing cached setuptools-74.1.2-py3-none-any.whl (1.3 MB)\n",
      "Downloading joblib-1.4.2-py3-none-any.whl (301 kB)\n",
      "Using cached rustworkx-0.15.1-cp38-abi3-manylinux_2_17_x86_64.manylinux2014_x86_64.whl (2.0 MB)\n",
      "Using cached stevedore-5.3.0-py3-none-any.whl (49 kB)\n",
      "Using cached symengine-0.11.0-cp312-cp312-manylinux_2_12_x86_64.manylinux2010_x86_64.whl (39.3 MB)\n",
      "Downloading sympy-1.13.2-py3-none-any.whl (6.2 MB)\n",
      "\u001b[2K   \u001b[90m━━━━━━━━━━━━━━━━━━━━━━━━━━━━━━━━━━━━━━━━\u001b[0m \u001b[32m6.2/6.2 MB\u001b[0m \u001b[31m35.5 MB/s\u001b[0m eta \u001b[36m0:00:00\u001b[0m\n",
      "\u001b[?25hDownloading threadpoolctl-3.5.0-py3-none-any.whl (18 kB)\n",
      "Downloading typing_extensions-4.12.2-py3-none-any.whl (37 kB)\n",
      "Downloading mpmath-1.3.0-py3-none-any.whl (536 kB)\n",
      "\u001b[2K   \u001b[90m━━━━━━━━━━━━━━━━━━━━━━━━━━━━━━━━━━━━━━━━\u001b[0m \u001b[32m536.2/536.2 kB\u001b[0m \u001b[31m6.2 MB/s\u001b[0m eta \u001b[36m0:00:00\u001b[0m\n",
      "\u001b[?25hUsing cached pbr-6.1.0-py2.py3-none-any.whl (108 kB)\n",
      "Installing collected packages: mpmath, typing-extensions, threadpoolctl, sympy, symengine, setuptools, pbr, numpy, joblib, dill, stevedore, scipy, rustworkx, fastdtw, scikit-learn, qiskit, qiskit-algorithms, qiskit-machine-learning\n",
      "Successfully installed dill-0.3.8 fastdtw-0.3.4 joblib-1.4.2 mpmath-1.3.0 numpy-2.1.1 pbr-6.1.0 qiskit-1.2.0 qiskit-algorithms-0.3.0 qiskit-machine-learning-0.7.2 rustworkx-0.15.1 scikit-learn-1.5.1 scipy-1.14.1 setuptools-74.1.2 stevedore-5.3.0 symengine-0.11.0 sympy-1.13.2 threadpoolctl-3.5.0 typing-extensions-4.12.2\n"
     ]
    }
   ],
   "source": [
    "!pip install qiskit-machine-learning"
   ]
  },
  {
   "cell_type": "code",
   "execution_count": null,
   "metadata": {},
   "outputs": [],
   "source": []
  }
 ],
 "metadata": {
  "kernelspec": {
   "display_name": ".venv",
   "language": "python",
   "name": "python3"
  },
  "language_info": {
   "codemirror_mode": {
    "name": "ipython",
    "version": 3
   },
   "file_extension": ".py",
   "mimetype": "text/x-python",
   "name": "python",
   "nbconvert_exporter": "python",
   "pygments_lexer": "ipython3",
   "version": "3.12.1"
  }
 },
 "nbformat": 4,
 "nbformat_minor": 2
}
